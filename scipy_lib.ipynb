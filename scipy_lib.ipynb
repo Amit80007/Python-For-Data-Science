{
  "nbformat": 4,
  "nbformat_minor": 0,
  "metadata": {
    "colab": {
      "name": "scipy-lib.ipynb",
      "provenance": [],
      "include_colab_link": true
    },
    "kernelspec": {
      "name": "python3",
      "display_name": "Python 3"
    }
  },
  "cells": [
    {
      "cell_type": "markdown",
      "metadata": {
        "id": "view-in-github",
        "colab_type": "text"
      },
      "source": [
        "<a href=\"https://colab.research.google.com/github/Amit80007/Python-For-Data-Science/blob/master/scipy_lib.ipynb\" target=\"_parent\"><img src=\"https://colab.research.google.com/assets/colab-badge.svg\" alt=\"Open In Colab\"/></a>"
      ]
    },
    {
      "cell_type": "code",
      "metadata": {
        "id": "o3CvD1Lociac",
        "colab_type": "code",
        "colab": {}
      },
      "source": [
        "from scipy import cluster"
      ],
      "execution_count": 0,
      "outputs": []
    },
    {
      "cell_type": "markdown",
      "metadata": {
        "id": "UQKqymVRf2Yt",
        "colab_type": "text"
      },
      "source": [
        "**Exponential Function**"
      ]
    },
    {
      "cell_type": "code",
      "metadata": {
        "id": "ombwEYMuflg9",
        "colab_type": "code",
        "colab": {
          "base_uri": "https://localhost:8080/",
          "height": 51
        },
        "outputId": "c527afde-114b-4240-be2c-6c643fd51157"
      },
      "source": [
        "from scipy import special\n",
        "a = special.exp10(2)\n",
        "b= special.exp2(3)\n",
        "print(b)\n",
        "print(a)"
      ],
      "execution_count": 12,
      "outputs": [
        {
          "output_type": "stream",
          "text": [
            "8.0\n",
            "100.0\n"
          ],
          "name": "stdout"
        }
      ]
    },
    {
      "cell_type": "code",
      "metadata": {
        "id": "wsVUEDx0gCsW",
        "colab_type": "code",
        "colab": {
          "base_uri": "https://localhost:8080/",
          "height": 51
        },
        "outputId": "605eb6cb-775b-4e31-b79c-b3e094590141"
      },
      "source": [
        "c= special.sindg(90)\n",
        "d= special.cosdg(90)\n",
        "print(c)\n",
        "print(d)"
      ],
      "execution_count": 15,
      "outputs": [
        {
          "output_type": "stream",
          "text": [
            "1.0\n",
            "-0.0\n"
          ],
          "name": "stdout"
        }
      ]
    },
    {
      "cell_type": "markdown",
      "metadata": {
        "id": "zhG7WQ3Fgkxk",
        "colab_type": "text"
      },
      "source": [
        "**Integration Functions**"
      ]
    },
    {
      "cell_type": "code",
      "metadata": {
        "id": "C5ZKUF1rgb0D",
        "colab_type": "code",
        "colab": {
          "base_uri": "https://localhost:8080/",
          "height": 34
        },
        "outputId": "a6388c3b-ec57-4ac2-f71c-a73f8e499321"
      },
      "source": [
        "from scipy import integrate\n",
        "#help(integrate.quad)\n",
        "a= integrate.quad(lambda x : special.exp10(x),0,1)\n",
        "print(a)"
      ],
      "execution_count": 17,
      "outputs": [
        {
          "output_type": "stream",
          "text": [
            "(3.9086503371292665, 4.3394735994897923e-14)\n"
          ],
          "name": "stdout"
        }
      ]
    },
    {
      "cell_type": "code",
      "metadata": {
        "id": "C16T2IIqgyvf",
        "colab_type": "code",
        "colab": {}
      },
      "source": [
        "integrate.quad??"
      ],
      "execution_count": 0,
      "outputs": []
    },
    {
      "cell_type": "code",
      "metadata": {
        "id": "DoWrwSIF-J6m",
        "colab_type": "code",
        "colab": {
          "base_uri": "https://localhost:8080/",
          "height": 34
        },
        "outputId": "86246b04-a34b-41f9-9161-95c0661b3c9e"
      },
      "source": [
        "e= lambda x,y: x*y**2\n",
        "f= lambda x:1\n",
        "g= lambda x: -1\n",
        "integrate.dblquad(e,0,2,f,g) "
      ],
      "execution_count": 20,
      "outputs": [
        {
          "output_type": "execute_result",
          "data": {
            "text/plain": [
              "(-0.0, 4.405142707569776e-14)"
            ]
          },
          "metadata": {
            "tags": []
          },
          "execution_count": 20
        }
      ]
    },
    {
      "cell_type": "markdown",
      "metadata": {
        "id": "4txoJr8B_9OR",
        "colab_type": "text"
      },
      "source": [
        "**Fourier transformations**"
      ]
    },
    {
      "cell_type": "code",
      "metadata": {
        "id": "N5QeLK9W_uvO",
        "colab_type": "code",
        "colab": {
          "base_uri": "https://localhost:8080/",
          "height": 51
        },
        "outputId": "bd14ae6f-bf8c-46eb-fba8-798cba2ce505"
      },
      "source": [
        "from scipy.fftpack import fft,ifft\n",
        "import numpy as np\n",
        "a=np.array([1,2,3])\n",
        "y= fft(a)\n",
        "x=ifft(a)\n",
        "print(y)\n",
        "print(x)"
      ],
      "execution_count": 23,
      "outputs": [
        {
          "output_type": "stream",
          "text": [
            "[ 6. +0.j        -1.5+0.8660254j -1.5-0.8660254j]\n",
            "[ 2. +0.j         -0.5-0.28867513j -0.5+0.28867513j]\n"
          ],
          "name": "stdout"
        }
      ]
    },
    {
      "cell_type": "markdown",
      "metadata": {
        "id": "Qd3x5RpjAp3o",
        "colab_type": "text"
      },
      "source": [
        "**Linear Algebra**"
      ]
    },
    {
      "cell_type": "code",
      "metadata": {
        "id": "uXrVPJ8mAbI8",
        "colab_type": "code",
        "colab": {
          "base_uri": "https://localhost:8080/",
          "height": 51
        },
        "outputId": "4da0d759-d68e-4a8a-8ec9-26f1efe9a0ad"
      },
      "source": [
        "from scipy import linalg\n",
        "a=np.array([[1,2],[2,3]])\n",
        "x=linalg.inv(a)\n",
        "print(x)"
      ],
      "execution_count": 28,
      "outputs": [
        {
          "output_type": "stream",
          "text": [
            "[[-3.  2.]\n",
            " [ 2. -1.]]\n"
          ],
          "name": "stdout"
        }
      ]
    },
    {
      "cell_type": "markdown",
      "metadata": {
        "id": "O9oF05RsCMIf",
        "colab_type": "text"
      },
      "source": [
        "**Interpolation Function**"
      ]
    },
    {
      "cell_type": "code",
      "metadata": {
        "id": "PFqFmSJBA-gV",
        "colab_type": "code",
        "colab": {
          "base_uri": "https://localhost:8080/",
          "height": 269
        },
        "outputId": "9007211a-70d9-4dc2-9693-af1b642fec84"
      },
      "source": [
        "import matplotlib.pyplot as plt\n",
        "from scipy import interpolate\n",
        "x= np.arange(5,20)\n",
        "y=np.exp(x/3.0)\n",
        "f = interpolate.interp1d(x,y)\n",
        "x1 = np.arange(6,12)\n",
        "y1 = f(x1)\n",
        "plt.plot(x,y, 'o', x1, y1, '--')\n",
        "plt.show()"
      ],
      "execution_count": 32,
      "outputs": [
        {
          "output_type": "display_data",
          "data": {
            "image/png": "[encoded data removed]",
            "text/plain": [
              "<Figure size 432x288 with 1 Axes>"
            ]
          },
          "metadata": {
            "tags": []
          }
        }
      ]
    },
    {
      "cell_type": "code",
      "metadata": {
        "id": "SQu1rjRKDify",
        "colab_type": "code",
        "colab": {}
      },
      "source": [
        ""
      ],
      "execution_count": 0,
      "outputs": []
    }
  ]
}