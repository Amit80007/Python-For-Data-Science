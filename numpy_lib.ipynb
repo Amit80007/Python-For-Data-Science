{
  "nbformat": 4,
  "nbformat_minor": 0,
  "metadata": {
    "colab": {
      "name": "numpy-lib.ipynb",
      "provenance": [],
      "include_colab_link": true
    },
    "kernelspec": {
      "name": "python3",
      "display_name": "Python 3"
    }
  },
  "cells": [
    {
      "cell_type": "markdown",
      "metadata": {
        "id": "view-in-github",
        "colab_type": "text"
      },
      "source": [
        "<a href=\"https://colab.research.google.com/github/Amit80007/Python-For-Data-Science/blob/master/numpy_lib.ipynb\" target=\"_parent\"><img src=\"https://colab.research.google.com/assets/colab-badge.svg\" alt=\"Open In Colab\"/></a>"
      ]
    },
    {
      "cell_type": "markdown",
      "metadata": {
        "id": "gDyX2Uk3o2LH",
        "colab_type": "text"
      },
      "source": [
        "**Import Numpy Library First**"
      ]
    },
    {
      "cell_type": "code",
      "metadata": {
        "id": "7jAC_odIm9T4",
        "colab_type": "code",
        "colab": {}
      },
      "source": [
        "import numpy as np"
      ],
      "execution_count": 0,
      "outputs": []
    },
    {
      "cell_type": "markdown",
      "metadata": {
        "id": "-tjq1A8ppQon",
        "colab_type": "text"
      },
      "source": [
        "**How to create 2-d numpy array**"
      ]
    },
    {
      "cell_type": "code",
      "metadata": {
        "id": "DGFSPHtznpld",
        "colab_type": "code",
        "colab": {}
      },
      "source": [
        "a= np.array([(1,2,3),(4,5,6)])"
      ],
      "execution_count": 0,
      "outputs": []
    },
    {
      "cell_type": "markdown",
      "metadata": {
        "id": "lKhMPdVnpdVS",
        "colab_type": "text"
      },
      "source": [
        "**To check size of numpy array**"
      ]
    },
    {
      "cell_type": "code",
      "metadata": {
        "id": "DLpm2464nx-l",
        "colab_type": "code",
        "colab": {
          "base_uri": "https://localhost:8080/",
          "height": 34
        },
        "outputId": "2bcdb6b4-ffd0-4763-aea6-ac3a0fb747d5"
      },
      "source": [
        "x= np.arange(1000)\n",
        "k= range(1000)\n",
        "import sys\n",
        "print(sys.getsizeof(x))"
      ],
      "execution_count": 7,
      "outputs": [
        {
          "output_type": "stream",
          "text": [
            "8096\n"
          ],
          "name": "stdout"
        }
      ]
    },
    {
      "cell_type": "markdown",
      "metadata": {
        "id": "ZvijxeAWTANy",
        "colab_type": "text"
      },
      "source": [
        "***TO demonstrate numpy array is fast***"
      ]
    },
    {
      "cell_type": "code",
      "metadata": {
        "id": "iUpnI3gFnydj",
        "colab_type": "code",
        "colab": {
          "base_uri": "https://localhost:8080/",
          "height": 51
        },
        "outputId": "eb27dd01-3b39-4d34-d87c-e6e93768dea5"
      },
      "source": [
        "SIZE=1000000\n",
        "L1=range(SIZE)\n",
        "L2=range(SIZE)\n",
        "\n",
        "A1=np.arange(SIZE)\n",
        "A2=np.arange(SIZE)\n",
        "\n",
        "%timeit result = [x+y for x,y in zip(L1,L2)]\n",
        "%timeit result1 = A1+A2\n"
      ],
      "execution_count": 11,
      "outputs": [
        {
          "output_type": "stream",
          "text": [
            "10 loops, best of 3: 112 ms per loop\n",
            "100 loops, best of 3: 2.13 ms per loop\n"
          ],
          "name": "stdout"
        }
      ]
    },
    {
      "cell_type": "markdown",
      "metadata": {
        "id": "KxPMHleZUtmK",
        "colab_type": "text"
      },
      "source": [
        "**Operations in Numpy**"
      ]
    },
    {
      "cell_type": "code",
      "metadata": {
        "id": "FdTm1PpETvZu",
        "colab_type": "code",
        "colab": {
          "base_uri": "https://localhost:8080/",
          "height": 306
        },
        "outputId": "ec7f72b8-6cec-43d1-cd87-90ae046b93a7"
      },
      "source": [
        "a = np.array([(1,2,3),(4,5,6)])\n",
        "a.ndim\n",
        "print(a.shape)\n",
        "a.dtype\n",
        "print(a.reshape(3,2))\n",
        "print(a)\n",
        "print(a[0:,2])\n",
        "print(np.linspace(-1,1,10))\n",
        "print(a.max())\n",
        "print(a.min())\n",
        "print(a)\n",
        "print(a.sum(axis=0))\n",
        "print(np.sqrt(a))\n",
        "print(np.std(a))"
      ],
      "execution_count": 35,
      "outputs": [
        {
          "output_type": "stream",
          "text": [
            "(2, 3)\n",
            "[[1 2]\n",
            " [3 4]\n",
            " [5 6]]\n",
            "[[1 2 3]\n",
            " [4 5 6]]\n",
            "[3 6]\n",
            "[-1.         -0.77777778 -0.55555556 -0.33333333 -0.11111111  0.11111111\n",
            "  0.33333333  0.55555556  0.77777778  1.        ]\n",
            "6\n",
            "1\n",
            "[[1 2 3]\n",
            " [4 5 6]]\n",
            "[5 7 9]\n",
            "[[1.         1.41421356 1.73205081]\n",
            " [2.         2.23606798 2.44948974]]\n",
            "1.707825127659933\n"
          ],
          "name": "stdout"
        }
      ]
    },
    {
      "cell_type": "code",
      "metadata": {
        "id": "E_2HzQs_VGEI",
        "colab_type": "code",
        "colab": {
          "base_uri": "https://localhost:8080/",
          "height": 272
        },
        "outputId": "2b0f56bb-b3e1-4b6d-b86a-4119faa82cbe"
      },
      "source": [
        "x=np.array([(1,2,3),(2,3,4),(3,4,5)])\n",
        "y=np.array([(1,2,3),(2,3,4),(3,4,5)])\n",
        "\n",
        "print(x+y)\n",
        "print(x*y)\n",
        "print(x-y)\n",
        "print(x/y)\n",
        "print(x%y)"
      ],
      "execution_count": 38,
      "outputs": [
        {
          "output_type": "stream",
          "text": [
            "[[ 2  4  6]\n",
            " [ 4  6  8]\n",
            " [ 6  8 10]]\n",
            "[[ 1  4  9]\n",
            " [ 4  9 16]\n",
            " [ 9 16 25]]\n",
            "[[0 0 0]\n",
            " [0 0 0]\n",
            " [0 0 0]]\n",
            "[[1. 1. 1.]\n",
            " [1. 1. 1.]\n",
            " [1. 1. 1.]]\n",
            "[[0 0 0]\n",
            " [0 0 0]\n",
            " [0 0 0]]\n"
          ],
          "name": "stdout"
        }
      ]
    },
    {
      "cell_type": "markdown",
      "metadata": {
        "id": "yfUjJAW1ZPA6",
        "colab_type": "text"
      },
      "source": [
        "**Stacking two arrays**"
      ]
    },
    {
      "cell_type": "code",
      "metadata": {
        "id": "tK1zJl7xYtsS",
        "colab_type": "code",
        "colab": {
          "base_uri": "https://localhost:8080/",
          "height": 170
        },
        "outputId": "f2b4622b-235a-49e6-cba7-83aa754fcdbd"
      },
      "source": [
        "print(np.vstack((x,y)))\n",
        "print(np.hstack((x,y)))"
      ],
      "execution_count": 41,
      "outputs": [
        {
          "output_type": "stream",
          "text": [
            "[[1 2 3]\n",
            " [2 3 4]\n",
            " [3 4 5]\n",
            " [1 2 3]\n",
            " [2 3 4]\n",
            " [3 4 5]]\n",
            "[[1 2 3 1 2 3]\n",
            " [2 3 4 2 3 4]\n",
            " [3 4 5 3 4 5]]\n"
          ],
          "name": "stdout"
        }
      ]
    },
    {
      "cell_type": "code",
      "metadata": {
        "id": "zgtPTpV7ZZKx",
        "colab_type": "code",
        "colab": {
          "base_uri": "https://localhost:8080/",
          "height": 34
        },
        "outputId": "c4443977-e44f-4e3f-b3c9-12bc12d292f8"
      },
      "source": [
        "np.ravel(x)"
      ],
      "execution_count": 42,
      "outputs": [
        {
          "output_type": "execute_result",
          "data": {
            "text/plain": [
              "array([1, 2, 3, 2, 3, 4, 3, 4, 5])"
            ]
          },
          "metadata": {
            "tags": []
          },
          "execution_count": 42
        }
      ]
    },
    {
      "cell_type": "markdown",
      "metadata": {
        "id": "iQqRt-QAa1hD",
        "colab_type": "text"
      },
      "source": [
        "Functions in **Numpy**"
      ]
    },
    {
      "cell_type": "code",
      "metadata": {
        "id": "KzTCZxNaZugR",
        "colab_type": "code",
        "colab": {
          "base_uri": "https://localhost:8080/",
          "height": 303
        },
        "outputId": "8e5a023a-6a16-4ca0-cb9b-71a8bbb9ccae"
      },
      "source": [
        "import matplotlib.pyplot as plt\n",
        "\n",
        "x= np.arange(0,3*np.pi,0.1)\n",
        "y= np.cos(x)\n",
        "\n",
        "plt.plot(x,y)\n",
        "plt.show()\n",
        "\n",
        "k= np.exp([(1,2,3)])\n",
        "print(k)\n",
        "print(np.log10([(1,2,10)]))"
      ],
      "execution_count": 50,
      "outputs": [
        {
          "output_type": "display_data",
          "data": {
            "image/png": "[encoded data removed]",
            "text/plain": [
              "<Figure size 432x288 with 1 Axes>"
            ]
          },
          "metadata": {
            "tags": []
          }
        },
        {
          "output_type": "stream",
          "text": [
            "[[ 2.71828183  7.3890561  20.08553692]]\n",
            "[[0.      0.30103 1.     ]]\n"
          ],
          "name": "stdout"
        }
      ]
    },
    {
      "cell_type": "code",
      "metadata": {
        "id": "0UNGLSZxafDb",
        "colab_type": "code",
        "colab": {}
      },
      "source": [
        ""
      ],
      "execution_count": 0,
      "outputs": []
    }
  ]
}